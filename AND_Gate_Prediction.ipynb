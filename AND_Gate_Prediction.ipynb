{
  "nbformat": 4,
  "nbformat_minor": 0,
  "metadata": {
    "colab": {
      "name": "AND_Gate_Prediction.ipynb",
      "provenance": [],
      "authorship_tag": "ABX9TyNp8OYxOe7z4gYHJMpbiSYS",
      "include_colab_link": true
    },
    "kernelspec": {
      "name": "python3",
      "display_name": "Python 3"
    }
  },
  "cells": [
    {
      "cell_type": "markdown",
      "metadata": {
        "id": "view-in-github",
        "colab_type": "text"
      },
      "source": [
        "<a href=\"https://colab.research.google.com/github/DIT-Deep-Learning/Tensorflow-Study/blob/main/AND_Gate_Prediction.ipynb\" target=\"_parent\"><img src=\"https://colab.research.google.com/assets/colab-badge.svg\" alt=\"Open In Colab\"/></a>"
      ]
    },
    {
      "cell_type": "code",
      "metadata": {
        "colab": {
          "base_uri": "https://localhost:8080/",
          "height": 460
        },
        "id": "TBOFdj_SLVBs",
        "outputId": "529a3c7e-a44b-4c8a-cfbc-466b33b8a698"
      },
      "source": [
        "import tensorflow as tf\n",
        "from tensorflow import keras\n",
        "import numpy as np\n",
        "\n",
        "tf.random.set_seed(0)\n",
        "\n",
        "\n",
        "# 1. 훈련 데이터 준비하기\n",
        "x_train = [[0, 0], [0, 1], [1, 0], [1, 1]]\n",
        "y_train = [[0], [0], [0], [1]]\n",
        "\n",
        "\n",
        "# 2. 모델 구성하기\n",
        "model = keras.Sequential([\n",
        "    keras.layers.Dense(units=3, input_shape=[2], activation='relu'),\n",
        "    # keras.layers.Dense(units=3, input_shape=[2], activation='sigmoid'),\n",
        "    keras.layers.Dense(units=1)\n",
        "    ])\n",
        "\n",
        "\n",
        "# 3. 모델 컴파일하기\n",
        "# model.compile(loss='mse', optimizer='SGD')\n",
        "model.compile(loss='mse', optimizer='Adam')\n",
        "\n",
        "\n",
        "# 4. 모델 훈련하기\n",
        "pred_before_training = model.predict(x_train)\n",
        "print('Before Training: \\n', pred_before_training)\n",
        "\n",
        "history = model.fit(x_train, y_train, epochs=1000, verbose=0)\n",
        "\n",
        "pred_after_training = model.predict(x_train)\n",
        "print('After Training: \\n', pred_after_training)\n",
        "\n",
        "\n",
        "# 5. 손실값 확인하기\n",
        "import matplotlib.pyplot as plt\n",
        "\n",
        "loss = history.history['loss']\n",
        "plt.plot(loss)\n",
        "plt.xlabel('Epoch', labelpad=15)\n",
        "plt.ylabel('Loss', labelpad=15)\n",
        "\n",
        "plt.show()"
      ],
      "execution_count": 3,
      "outputs": [
        {
          "output_type": "stream",
          "text": [
            "Before Training: \n",
            " [[0.        ]\n",
            " [0.6210649 ]\n",
            " [0.06930891]\n",
            " [0.6721569 ]]\n",
            "After Training: \n",
            " [[-0.00612798]\n",
            " [ 0.00896964]\n",
            " [ 0.00497075]\n",
            " [ 0.99055487]]\n"
          ],
          "name": "stdout"
        },
        {
          "output_type": "display_data",
          "data": {
            "image/png": "[encoded data removed]",
            "text/plain": [
              "<Figure size 432x288 with 1 Axes>"
            ]
          },
          "metadata": {
            "tags": [],
            "needs_background": "light"
          }
        }
      ]
    }
  ]
}