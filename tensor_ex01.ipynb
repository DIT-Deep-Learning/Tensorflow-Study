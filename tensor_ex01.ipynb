{
  "nbformat": 4,
  "nbformat_minor": 0,
  "metadata": {
    "colab": {
      "name": "tensor_ex01.ipynb",
      "provenance": [],
      "collapsed_sections": [],
      "authorship_tag": "ABX9TyPrbA+mIp+sJfi4Gayc3NBP",
      "include_colab_link": true
    },
    "kernelspec": {
      "name": "python3",
      "display_name": "Python 3"
    }
  },
  "cells": [
    {
      "cell_type": "markdown",
      "metadata": {
        "id": "view-in-github",
        "colab_type": "text"
      },
      "source": [
        "<a href=\"https://colab.research.google.com/github/DIT-Deep-Learning/Tensorflow-Study/blob/main/tensor_ex01.ipynb\" target=\"_parent\"><img src=\"https://colab.research.google.com/assets/colab-badge.svg\" alt=\"Open In Colab\"/></a>"
      ]
    },
    {
      "cell_type": "code",
      "metadata": {
        "colab": {
          "base_uri": "https://localhost:8080/"
        },
        "id": "k6cgj96fcftN",
        "outputId": "e7033c0b-ee3f-4bcf-a87a-1a505d6a5d17"
      },
      "source": [
        "import tensorflow as tf\n",
        "\n",
        "a = tf.constant(1)\n",
        "b = tf.constant([2])\n",
        "c = tf.constant([3, 4, 5])\n",
        "\n",
        "print(a.dtype, a.shape)\n",
        "print(b.dtype, b.shape)\n",
        "print(c.dtype, c.shape)"
      ],
      "execution_count": 2,
      "outputs": [
        {
          "output_type": "stream",
          "text": [
            "<dtype: 'int32'> ()\n",
            "<dtype: 'int32'> (1,)\n",
            "<dtype: 'int32'> (3,)\n"
          ],
          "name": "stdout"
        }
      ]
    },
    {
      "cell_type": "code",
      "metadata": {
        "colab": {
          "base_uri": "https://localhost:8080/"
        },
        "id": "7AGxXYpJc71u",
        "outputId": "242e19bd-bd6e-422c-b0ab-7707be4b11cd"
      },
      "source": [
        "d = tf.constant([1., 2.])\n",
        "e = tf.constant([[1, 2., 3]])\n",
        "f = tf.constant([[1, 2], [3, 4]])\n",
        "\n",
        "print(d.dtype, d.shape)\n",
        "print(e.dtype, e.shape)\n",
        "print(f.dtype, f.shape)"
      ],
      "execution_count": null,
      "outputs": [
        {
          "output_type": "stream",
          "text": [
            "<dtype: 'float32'> (2,)\n",
            "<dtype: 'float32'> (1, 3)\n",
            "<dtype: 'int32'> (2, 2)\n"
          ],
          "name": "stdout"
        }
      ]
    },
    {
      "cell_type": "code",
      "metadata": {
        "id": "tFI-ZP9Cr6S4",
        "outputId": "b8ca7633-a067-431b-c242-75cca4dcd7b2",
        "colab": {
          "base_uri": "https://localhost:8080/"
        }
      },
      "source": [
        "a = tf.linspace(0, 1, 3)\n",
        "b = tf.linspace(0, 3, 10)\n",
        "\n",
        "print(a)\n",
        "print(b)"
      ],
      "execution_count": 3,
      "outputs": [
        {
          "output_type": "stream",
          "text": [
            "tf.Tensor([0.  0.5 1. ], shape=(3,), dtype=float64)\n",
            "tf.Tensor(\n",
            "[0.         0.33333333 0.66666667 1.         1.33333333 1.66666667\n",
            " 2.         2.33333333 2.66666667 3.        ], shape=(10,), dtype=float64)\n"
          ],
          "name": "stdout"
        }
      ]
    }
  ]
}