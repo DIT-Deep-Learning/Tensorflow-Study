{
  "nbformat": 4,
  "nbformat_minor": 0,
  "metadata": {
    "colab": {
      "name": "tensor_ex01.ipynb",
      "provenance": [],
      "collapsed_sections": [],
      "authorship_tag": "ABX9TyMS5qkUQ+CRDkSBfjZJMeEz",
      "include_colab_link": true
    },
    "kernelspec": {
      "name": "python3",
      "display_name": "Python 3"
    }
  },
  "cells": [
    {
      "cell_type": "markdown",
      "metadata": {
        "id": "view-in-github",
        "colab_type": "text"
      },
      "source": [
        "<a href=\"https://colab.research.google.com/github/DIT-Deep-Learning/Tensorflow-Study/blob/main/tensor_ex01.ipynb\" target=\"_parent\"><img src=\"https://colab.research.google.com/assets/colab-badge.svg\" alt=\"Open In Colab\"/></a>"
      ]
    },
    {
      "cell_type": "code",
      "metadata": {
        "colab": {
          "base_uri": "https://localhost:8080/"
        },
        "id": "k6cgj96fcftN",
        "outputId": "0dec3639-8610-432e-d20c-37184a4a1e9b"
      },
      "source": [
        "import tensorflow as tf\n",
        "\n",
        "a = tf.constant(1)\n",
        "b = tf.constant([2])\n",
        "c = tf.constant([3, 4, 5])\n",
        "\n",
        "print(a.dtype, a.shape)\n",
        "print(b.dtype, b.shape)\n",
        "print(c.dtype, c.shape)"
      ],
      "execution_count": null,
      "outputs": [
        {
          "output_type": "stream",
          "text": [
            "<dtype: 'int32'> ()\n",
            "<dtype: 'int32'> (1,)\n",
            "<dtype: 'int32'> (3,)\n"
          ],
          "name": "stdout"
        }
      ]
    },
    {
      "cell_type": "code",
      "metadata": {
        "colab": {
          "base_uri": "https://localhost:8080/"
        },
        "id": "7AGxXYpJc71u",
        "outputId": "242e19bd-bd6e-422c-b0ab-7707be4b11cd"
      },
      "source": [
        "d = tf.constant([1., 2.])\n",
        "e = tf.constant([[1, 2., 3]])\n",
        "f = tf.constant([[1, 2], [3, 4]])\n",
        "\n",
        "print(d.dtype, d.shape)\n",
        "print(e.dtype, e.shape)\n",
        "print(f.dtype, f.shape)"
      ],
      "execution_count": null,
      "outputs": [
        {
          "output_type": "stream",
          "text": [
            "<dtype: 'float32'> (2,)\n",
            "<dtype: 'float32'> (1, 3)\n",
            "<dtype: 'int32'> (2, 2)\n"
          ],
          "name": "stdout"
        }
      ]
    }
  ]
}